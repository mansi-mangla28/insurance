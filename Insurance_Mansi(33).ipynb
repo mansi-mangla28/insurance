{
  "nbformat": 4,
  "nbformat_minor": 0,
  "metadata": {
    "colab": {
      "provenance": [],
      "gpuType": "T4"
    },
    "kernelspec": {
      "name": "python3",
      "display_name": "Python 3"
    },
    "language_info": {
      "name": "python"
    },
    "accelerator": "GPU"
  },
  "cells": [
    {
      "cell_type": "code",
      "execution_count": 3,
      "metadata": {
        "id": "9etq0m7jCmJE"
      },
      "outputs": [],
      "source": [
        "###linear regression assignement\n",
        "#IMPORTING LIB.\n",
        "import pandas as pd\n",
        "import numpy as np\n",
        "import seaborn as sns\n",
        "import matplotlib.pyplot as mlt\n",
        "from sklearn import metrics"
      ]
    },
    {
      "cell_type": "code",
      "source": [
        "data=pd.read_csv('insurance.csv')"
      ],
      "metadata": {
        "id": "Irj0THYNkpN5"
      },
      "execution_count": 4,
      "outputs": []
    },
    {
      "cell_type": "code",
      "source": [
        "#PERFORMING EDA\n",
        "data.shape\n",
        "data.head()\n",
        "data.tail()\n",
        "data.columns\n",
        "data.info()\n",
        "data.isna()\n",
        "data.describe()"
      ],
      "metadata": {
        "colab": {
          "base_uri": "https://localhost:8080/",
          "height": 543
        },
        "id": "_P2y-fM2k2IG",
        "outputId": "889bc145-5647-4f36-fdcc-b22d70c69dd6"
      },
      "execution_count": 5,
      "outputs": [
        {
          "output_type": "stream",
          "name": "stdout",
          "text": [
            "<class 'pandas.core.frame.DataFrame'>\n",
            "RangeIndex: 1338 entries, 0 to 1337\n",
            "Data columns (total 7 columns):\n",
            " #   Column    Non-Null Count  Dtype  \n",
            "---  ------    --------------  -----  \n",
            " 0   age       1338 non-null   int64  \n",
            " 1   sex       1338 non-null   object \n",
            " 2   bmi       1338 non-null   float64\n",
            " 3   children  1338 non-null   int64  \n",
            " 4   smoker    1338 non-null   object \n",
            " 5   region    1338 non-null   object \n",
            " 6   charges   1338 non-null   float64\n",
            "dtypes: float64(2), int64(2), object(3)\n",
            "memory usage: 73.3+ KB\n"
          ]
        },
        {
          "output_type": "execute_result",
          "data": {
            "text/plain": [
              "               age          bmi     children       charges\n",
              "count  1338.000000  1338.000000  1338.000000   1338.000000\n",
              "mean     39.207025    30.663397     1.094918  13270.422265\n",
              "std      14.049960     6.098187     1.205493  12110.011237\n",
              "min      18.000000    15.960000     0.000000   1121.873900\n",
              "25%      27.000000    26.296250     0.000000   4740.287150\n",
              "50%      39.000000    30.400000     1.000000   9382.033000\n",
              "75%      51.000000    34.693750     2.000000  16639.912515\n",
              "max      64.000000    53.130000     5.000000  63770.428010"
            ],
            "text/html": [
              "\n",
              "  <div id=\"df-f060e261-b7a6-4511-9691-bd5dca3c6a9b\" class=\"colab-df-container\">\n",
              "    <div>\n",
              "<style scoped>\n",
              "    .dataframe tbody tr th:only-of-type {\n",
              "        vertical-align: middle;\n",
              "    }\n",
              "\n",
              "    .dataframe tbody tr th {\n",
              "        vertical-align: top;\n",
              "    }\n",
              "\n",
              "    .dataframe thead th {\n",
              "        text-align: right;\n",
              "    }\n",
              "</style>\n",
              "<table border=\"1\" class=\"dataframe\">\n",
              "  <thead>\n",
              "    <tr style=\"text-align: right;\">\n",
              "      <th></th>\n",
              "      <th>age</th>\n",
              "      <th>bmi</th>\n",
              "      <th>children</th>\n",
              "      <th>charges</th>\n",
              "    </tr>\n",
              "  </thead>\n",
              "  <tbody>\n",
              "    <tr>\n",
              "      <th>count</th>\n",
              "      <td>1338.000000</td>\n",
              "      <td>1338.000000</td>\n",
              "      <td>1338.000000</td>\n",
              "      <td>1338.000000</td>\n",
              "    </tr>\n",
              "    <tr>\n",
              "      <th>mean</th>\n",
              "      <td>39.207025</td>\n",
              "      <td>30.663397</td>\n",
              "      <td>1.094918</td>\n",
              "      <td>13270.422265</td>\n",
              "    </tr>\n",
              "    <tr>\n",
              "      <th>std</th>\n",
              "      <td>14.049960</td>\n",
              "      <td>6.098187</td>\n",
              "      <td>1.205493</td>\n",
              "      <td>12110.011237</td>\n",
              "    </tr>\n",
              "    <tr>\n",
              "      <th>min</th>\n",
              "      <td>18.000000</td>\n",
              "      <td>15.960000</td>\n",
              "      <td>0.000000</td>\n",
              "      <td>1121.873900</td>\n",
              "    </tr>\n",
              "    <tr>\n",
              "      <th>25%</th>\n",
              "      <td>27.000000</td>\n",
              "      <td>26.296250</td>\n",
              "      <td>0.000000</td>\n",
              "      <td>4740.287150</td>\n",
              "    </tr>\n",
              "    <tr>\n",
              "      <th>50%</th>\n",
              "      <td>39.000000</td>\n",
              "      <td>30.400000</td>\n",
              "      <td>1.000000</td>\n",
              "      <td>9382.033000</td>\n",
              "    </tr>\n",
              "    <tr>\n",
              "      <th>75%</th>\n",
              "      <td>51.000000</td>\n",
              "      <td>34.693750</td>\n",
              "      <td>2.000000</td>\n",
              "      <td>16639.912515</td>\n",
              "    </tr>\n",
              "    <tr>\n",
              "      <th>max</th>\n",
              "      <td>64.000000</td>\n",
              "      <td>53.130000</td>\n",
              "      <td>5.000000</td>\n",
              "      <td>63770.428010</td>\n",
              "    </tr>\n",
              "  </tbody>\n",
              "</table>\n",
              "</div>\n",
              "    <div class=\"colab-df-buttons\">\n",
              "\n",
              "  <div class=\"colab-df-container\">\n",
              "    <button class=\"colab-df-convert\" onclick=\"convertToInteractive('df-f060e261-b7a6-4511-9691-bd5dca3c6a9b')\"\n",
              "            title=\"Convert this dataframe to an interactive table.\"\n",
              "            style=\"display:none;\">\n",
              "\n",
              "  <svg xmlns=\"http://www.w3.org/2000/svg\" height=\"24px\" viewBox=\"0 -960 960 960\">\n",
              "    <path d=\"M120-120v-720h720v720H120Zm60-500h600v-160H180v160Zm220 220h160v-160H400v160Zm0 220h160v-160H400v160ZM180-400h160v-160H180v160Zm440 0h160v-160H620v160ZM180-180h160v-160H180v160Zm440 0h160v-160H620v160Z\"/>\n",
              "  </svg>\n",
              "    </button>\n",
              "\n",
              "  <style>\n",
              "    .colab-df-container {\n",
              "      display:flex;\n",
              "      gap: 12px;\n",
              "    }\n",
              "\n",
              "    .colab-df-convert {\n",
              "      background-color: #E8F0FE;\n",
              "      border: none;\n",
              "      border-radius: 50%;\n",
              "      cursor: pointer;\n",
              "      display: none;\n",
              "      fill: #1967D2;\n",
              "      height: 32px;\n",
              "      padding: 0 0 0 0;\n",
              "      width: 32px;\n",
              "    }\n",
              "\n",
              "    .colab-df-convert:hover {\n",
              "      background-color: #E2EBFA;\n",
              "      box-shadow: 0px 1px 2px rgba(60, 64, 67, 0.3), 0px 1px 3px 1px rgba(60, 64, 67, 0.15);\n",
              "      fill: #174EA6;\n",
              "    }\n",
              "\n",
              "    .colab-df-buttons div {\n",
              "      margin-bottom: 4px;\n",
              "    }\n",
              "\n",
              "    [theme=dark] .colab-df-convert {\n",
              "      background-color: #3B4455;\n",
              "      fill: #D2E3FC;\n",
              "    }\n",
              "\n",
              "    [theme=dark] .colab-df-convert:hover {\n",
              "      background-color: #434B5C;\n",
              "      box-shadow: 0px 1px 3px 1px rgba(0, 0, 0, 0.15);\n",
              "      filter: drop-shadow(0px 1px 2px rgba(0, 0, 0, 0.3));\n",
              "      fill: #FFFFFF;\n",
              "    }\n",
              "  </style>\n",
              "\n",
              "    <script>\n",
              "      const buttonEl =\n",
              "        document.querySelector('#df-f060e261-b7a6-4511-9691-bd5dca3c6a9b button.colab-df-convert');\n",
              "      buttonEl.style.display =\n",
              "        google.colab.kernel.accessAllowed ? 'block' : 'none';\n",
              "\n",
              "      async function convertToInteractive(key) {\n",
              "        const element = document.querySelector('#df-f060e261-b7a6-4511-9691-bd5dca3c6a9b');\n",
              "        const dataTable =\n",
              "          await google.colab.kernel.invokeFunction('convertToInteractive',\n",
              "                                                    [key], {});\n",
              "        if (!dataTable) return;\n",
              "\n",
              "        const docLinkHtml = 'Like what you see? Visit the ' +\n",
              "          '<a target=\"_blank\" href=https://colab.research.google.com/notebooks/data_table.ipynb>data table notebook</a>'\n",
              "          + ' to learn more about interactive tables.';\n",
              "        element.innerHTML = '';\n",
              "        dataTable['output_type'] = 'display_data';\n",
              "        await google.colab.output.renderOutput(dataTable, element);\n",
              "        const docLink = document.createElement('div');\n",
              "        docLink.innerHTML = docLinkHtml;\n",
              "        element.appendChild(docLink);\n",
              "      }\n",
              "    </script>\n",
              "  </div>\n",
              "\n",
              "\n",
              "<div id=\"df-074bb02b-4fb9-44be-9ee7-c6c67250f7fe\">\n",
              "  <button class=\"colab-df-quickchart\" onclick=\"quickchart('df-074bb02b-4fb9-44be-9ee7-c6c67250f7fe')\"\n",
              "            title=\"Suggest charts.\"\n",
              "            style=\"display:none;\">\n",
              "\n",
              "<svg xmlns=\"http://www.w3.org/2000/svg\" height=\"24px\"viewBox=\"0 0 24 24\"\n",
              "     width=\"24px\">\n",
              "    <g>\n",
              "        <path d=\"M19 3H5c-1.1 0-2 .9-2 2v14c0 1.1.9 2 2 2h14c1.1 0 2-.9 2-2V5c0-1.1-.9-2-2-2zM9 17H7v-7h2v7zm4 0h-2V7h2v10zm4 0h-2v-4h2v4z\"/>\n",
              "    </g>\n",
              "</svg>\n",
              "  </button>\n",
              "\n",
              "<style>\n",
              "  .colab-df-quickchart {\n",
              "      --bg-color: #E8F0FE;\n",
              "      --fill-color: #1967D2;\n",
              "      --hover-bg-color: #E2EBFA;\n",
              "      --hover-fill-color: #174EA6;\n",
              "      --disabled-fill-color: #AAA;\n",
              "      --disabled-bg-color: #DDD;\n",
              "  }\n",
              "\n",
              "  [theme=dark] .colab-df-quickchart {\n",
              "      --bg-color: #3B4455;\n",
              "      --fill-color: #D2E3FC;\n",
              "      --hover-bg-color: #434B5C;\n",
              "      --hover-fill-color: #FFFFFF;\n",
              "      --disabled-bg-color: #3B4455;\n",
              "      --disabled-fill-color: #666;\n",
              "  }\n",
              "\n",
              "  .colab-df-quickchart {\n",
              "    background-color: var(--bg-color);\n",
              "    border: none;\n",
              "    border-radius: 50%;\n",
              "    cursor: pointer;\n",
              "    display: none;\n",
              "    fill: var(--fill-color);\n",
              "    height: 32px;\n",
              "    padding: 0;\n",
              "    width: 32px;\n",
              "  }\n",
              "\n",
              "  .colab-df-quickchart:hover {\n",
              "    background-color: var(--hover-bg-color);\n",
              "    box-shadow: 0 1px 2px rgba(60, 64, 67, 0.3), 0 1px 3px 1px rgba(60, 64, 67, 0.15);\n",
              "    fill: var(--button-hover-fill-color);\n",
              "  }\n",
              "\n",
              "  .colab-df-quickchart-complete:disabled,\n",
              "  .colab-df-quickchart-complete:disabled:hover {\n",
              "    background-color: var(--disabled-bg-color);\n",
              "    fill: var(--disabled-fill-color);\n",
              "    box-shadow: none;\n",
              "  }\n",
              "\n",
              "  .colab-df-spinner {\n",
              "    border: 2px solid var(--fill-color);\n",
              "    border-color: transparent;\n",
              "    border-bottom-color: var(--fill-color);\n",
              "    animation:\n",
              "      spin 1s steps(1) infinite;\n",
              "  }\n",
              "\n",
              "  @keyframes spin {\n",
              "    0% {\n",
              "      border-color: transparent;\n",
              "      border-bottom-color: var(--fill-color);\n",
              "      border-left-color: var(--fill-color);\n",
              "    }\n",
              "    20% {\n",
              "      border-color: transparent;\n",
              "      border-left-color: var(--fill-color);\n",
              "      border-top-color: var(--fill-color);\n",
              "    }\n",
              "    30% {\n",
              "      border-color: transparent;\n",
              "      border-left-color: var(--fill-color);\n",
              "      border-top-color: var(--fill-color);\n",
              "      border-right-color: var(--fill-color);\n",
              "    }\n",
              "    40% {\n",
              "      border-color: transparent;\n",
              "      border-right-color: var(--fill-color);\n",
              "      border-top-color: var(--fill-color);\n",
              "    }\n",
              "    60% {\n",
              "      border-color: transparent;\n",
              "      border-right-color: var(--fill-color);\n",
              "    }\n",
              "    80% {\n",
              "      border-color: transparent;\n",
              "      border-right-color: var(--fill-color);\n",
              "      border-bottom-color: var(--fill-color);\n",
              "    }\n",
              "    90% {\n",
              "      border-color: transparent;\n",
              "      border-bottom-color: var(--fill-color);\n",
              "    }\n",
              "  }\n",
              "</style>\n",
              "\n",
              "  <script>\n",
              "    async function quickchart(key) {\n",
              "      const quickchartButtonEl =\n",
              "        document.querySelector('#' + key + ' button');\n",
              "      quickchartButtonEl.disabled = true;  // To prevent multiple clicks.\n",
              "      quickchartButtonEl.classList.add('colab-df-spinner');\n",
              "      try {\n",
              "        const charts = await google.colab.kernel.invokeFunction(\n",
              "            'suggestCharts', [key], {});\n",
              "      } catch (error) {\n",
              "        console.error('Error during call to suggestCharts:', error);\n",
              "      }\n",
              "      quickchartButtonEl.classList.remove('colab-df-spinner');\n",
              "      quickchartButtonEl.classList.add('colab-df-quickchart-complete');\n",
              "    }\n",
              "    (() => {\n",
              "      let quickchartButtonEl =\n",
              "        document.querySelector('#df-074bb02b-4fb9-44be-9ee7-c6c67250f7fe button');\n",
              "      quickchartButtonEl.style.display =\n",
              "        google.colab.kernel.accessAllowed ? 'block' : 'none';\n",
              "    })();\n",
              "  </script>\n",
              "</div>\n",
              "    </div>\n",
              "  </div>\n"
            ]
          },
          "metadata": {},
          "execution_count": 5
        }
      ]
    },
    {
      "cell_type": "code",
      "source": [
        "#FINDING CORR()AND PLOTINGT GRARPHS\n",
        "sns.heatmap(data.loc[:,['age','bmi' ,'children' ,'charges']].corr(),\n",
        "            annot=True)"
      ],
      "metadata": {
        "colab": {
          "base_uri": "https://localhost:8080/",
          "height": 452
        },
        "id": "loTqg1yRlREQ",
        "outputId": "bbc745ad-9c7a-4294-81a4-f25595f22765"
      },
      "execution_count": 6,
      "outputs": [
        {
          "output_type": "execute_result",
          "data": {
            "text/plain": [
              "<matplotlib.collections.PathCollection at 0x7df204be5d50>"
            ]
          },
          "metadata": {},
          "execution_count": 6
        },
        {
          "output_type": "display_data",
          "data": {
            "text/plain": [
              "<Figure size 640x480 with 2 Axes>"
            ],
            "image/png": "[encoded data removed]"
          },
          "metadata": {}
        }
      ]
    },
    {
      "cell_type": "code",
      "source": [
        "mlt.scatter(x=data['age'],y=data['charges'],color='yellow')\n",
        "mlt.scatter(x=data['bmi'],y=data['charges'],color='magenta')\n",
        "mlt.scatter(x=data['children'],y=data['charges'],color='red')"
      ],
      "metadata": {
        "colab": {
          "base_uri": "https://localhost:8080/",
          "height": 447
        },
        "id": "MIkoO9khmd1y",
        "outputId": "32f2a2d3-9924-428b-f35a-1a0b98e01430"
      },
      "execution_count": 16,
      "outputs": [
        {
          "output_type": "execute_result",
          "data": {
            "text/plain": [
              "<matplotlib.collections.PathCollection at 0x7df1ff7063b0>"
            ]
          },
          "metadata": {},
          "execution_count": 16
        },
        {
          "output_type": "display_data",
          "data": {
            "text/plain": [
              "<Figure size 640x480 with 1 Axes>"
            ],
            "image/png": "[encoded data removed]"
          },
          "metadata": {}
        }
      ]
    },
    {
      "cell_type": "code",
      "source": [
        "#FINDING UNIQUES VALUE AND TURNING CATEGORICAL COLUMN INTO NUMERICAL COLUMNS\n",
        "data['sex'].unique()\n",
        "data['sex'].value_counts()\n",
        "\n",
        "data['smoker'].unique()\n",
        "data['smoker'].value_counts()\n",
        "\n",
        "data['region'].unique()\n",
        "data['region'].value_counts()"
      ],
      "metadata": {
        "colab": {
          "base_uri": "https://localhost:8080/"
        },
        "id": "sblfm9ILlUnt",
        "outputId": "f82deb70-f24a-49de-a0cb-1e87e569a677"
      },
      "execution_count": 7,
      "outputs": [
        {
          "output_type": "execute_result",
          "data": {
            "text/plain": [
              "southeast    364\n",
              "southwest    325\n",
              "northwest    325\n",
              "northeast    324\n",
              "Name: region, dtype: int64"
            ]
          },
          "metadata": {},
          "execution_count": 7
        }
      ]
    },
    {
      "cell_type": "code",
      "source": [
        "from sklearn.preprocessing import LabelEncoder\n",
        "encoder=LabelEncoder()\n",
        "data['sex']=encoder.fit_transform(data['sex'])\n",
        "data['smoker']=encoder.fit_transform(data['smoker'])\n",
        "data['region']=encoder.fit_transform(data['region'])"
      ],
      "metadata": {
        "id": "GgINA9wTlgGL"
      },
      "execution_count": 8,
      "outputs": []
    },
    {
      "cell_type": "code",
      "source": [
        "#SEGREGATING DATA INTO INPUT AND OUTPUT\n",
        "x=data.drop(['charges'],axis=1)\n",
        "y=data['charges']"
      ],
      "metadata": {
        "id": "NlupjhTFllnj"
      },
      "execution_count": 9,
      "outputs": []
    },
    {
      "cell_type": "code",
      "source": [
        "#SPLITING THE DATA INTO TARIN AND TEST\n",
        "from sklearn.model_selection import train_test_split\n",
        "x_train,x_test,y_train,y_test=train_test_split(x,y,test_size=0.20,random_state=0)"
      ],
      "metadata": {
        "id": "dAB7QzU_lrVF"
      },
      "execution_count": 11,
      "outputs": []
    },
    {
      "cell_type": "code",
      "source": [
        "#GIVING TRAING TO THE SYSTEM\n",
        "from sklearn.linear_model import LinearRegression\n",
        "regressor=LinearRegression()\n",
        "\n",
        "regressor.fit(x_train,y_train)\n",
        "regressor.coef_\n",
        "regressor.intercept_"
      ],
      "metadata": {
        "colab": {
          "base_uri": "https://localhost:8080/"
        },
        "id": "0M4wsOlSlxv6",
        "outputId": "c9dfbcc2-4fc0-4a30-f6f3-f6724bb1c5e5"
      },
      "execution_count": 13,
      "outputs": [
        {
          "output_type": "execute_result",
          "data": {
            "text/plain": [
              "-11661.983908824377"
            ]
          },
          "metadata": {},
          "execution_count": 13
        }
      ]
    },
    {
      "cell_type": "code",
      "source": [
        "#TESTING TIME\n",
        "y_pred=regressor.predict(x_test)\n",
        "y_pred"
      ],
      "metadata": {
        "colab": {
          "base_uri": "https://localhost:8080/"
        },
        "id": "HM5A9k8el-LH",
        "outputId": "1e9caff7-fdaf-4637-bdc9-6fc09411ee3d"
      },
      "execution_count": 14,
      "outputs": [
        {
          "output_type": "execute_result",
          "data": {
            "text/plain": [
              "array([ 1.10172305e+04,  9.78753017e+03,  3.79947821e+04,  1.61227784e+04,\n",
              "        6.93075923e+03,  3.96902046e+03,  1.55178430e+03,  1.42832091e+04,\n",
              "        8.95342886e+03,  7.43194558e+03,  4.54457668e+03,  1.02472753e+04,\n",
              "        8.65710757e+03,  4.12619770e+03,  2.78113171e+04,  1.10395971e+04,\n",
              "        1.12514458e+04,  6.03101003e+03,  8.17339252e+03,  2.70394424e+04,\n",
              "        3.35778484e+04,  1.42670864e+04,  1.16850232e+04,  3.24069403e+04,\n",
              "        4.41465153e+03,  9.14607182e+03,  1.12786921e+03,  1.00891473e+04,\n",
              "        4.08782973e+03,  1.03569127e+04,  8.96224058e+03,  4.02452861e+04,\n",
              "        1.54779185e+04,  1.36671353e+04,  2.47415217e+04,  5.13005676e+03,\n",
              "        1.28428861e+04,  3.05264017e+04,  3.34289155e+04,  3.48813457e+03,\n",
              "        4.00215674e+03,  4.27800724e+03,  3.04613664e+04,  3.93491672e+04,\n",
              "        2.80033682e+04,  5.00299253e+03,  1.09312243e+04,  7.77848493e+03,\n",
              "        3.60829639e+03,  1.05573586e+04,  5.62958594e+03,  3.37882569e+03,\n",
              "        3.28476568e+04,  3.83589849e+04,  1.62558801e+04,  7.06241014e+03,\n",
              "        5.97248325e+03,  9.39788870e+03,  9.25780531e+03,  1.16951751e+04,\n",
              "        1.69916613e+03,  3.88121760e+04,  1.51807841e+04,  1.16426216e+04,\n",
              "        1.39795609e+04,  1.38417075e+04,  2.60655782e+04,  3.20927638e+04,\n",
              "        1.17101972e+03,  1.00992050e+04,  1.22269472e+04,  1.18335084e+04,\n",
              "        2.50622738e+04,  1.58641221e+04,  1.11821756e+04,  1.26250193e+04,\n",
              "        6.45516939e+03,  9.87845081e+03,  3.01406523e+04,  3.88752926e+04,\n",
              "        1.20146292e+04,  3.74237290e+04,  4.15801175e+03,  9.23928751e+03,\n",
              "        3.47289055e+04,  2.91373217e+04,  8.44427879e+03,  4.83079843e+03,\n",
              "        1.19084864e+04,  3.02294133e+04,  9.99545846e+03,  1.12369560e+04,\n",
              "        8.25905055e+03,  9.21753573e+03,  8.33677527e+03,  7.26730321e+03,\n",
              "        3.59291572e+04,  3.29979044e+04,  7.57410931e+03,  1.49063350e+04,\n",
              "        4.27127621e+03,  8.71919546e+03,  6.59751577e+03,  3.17561627e+04,\n",
              "        3.28899862e+04,  1.95809172e+03,  8.92940740e+03,  6.57983838e+03,\n",
              "        1.44949762e+04,  3.70281623e+04,  1.01470596e+04,  1.07658523e+04,\n",
              "        1.01691133e+04,  2.68746394e+04,  4.00624210e+04,  8.44832630e+03,\n",
              "        1.96589741e+02,  8.88326806e+03,  1.50611515e+04,  9.49472144e+03,\n",
              "        3.53710336e+04,  7.27834583e+03,  1.67655528e+04,  9.55674495e+03,\n",
              "        8.12293314e+03,  2.94795679e+03,  3.28677603e+04,  3.14299323e+04,\n",
              "        3.93598209e+04,  5.46393233e+03,  9.61378106e+03,  3.84241341e+03,\n",
              "        7.93509495e+03,  8.63006269e+03,  3.15367816e+04,  2.97675689e+04,\n",
              "        3.00650522e+04,  9.07864776e+03,  3.27490278e+04,  3.29582047e+03,\n",
              "        3.61195610e+03,  1.10734252e+04,  1.33881159e+04,  1.27926473e+04,\n",
              "        5.40336938e+03,  1.58291196e+04,  1.51835111e+04,  2.39115138e+03,\n",
              "       -4.57290300e+00,  1.08341115e+04,  7.38733313e+03,  3.19989361e+04,\n",
              "        1.23184098e+04,  2.61418762e+03,  6.32875168e+03,  8.15408435e+03,\n",
              "        4.35215506e+03,  2.39744190e+03,  1.13149696e+04,  1.24560872e+04,\n",
              "        7.20365872e+03,  1.65972857e+04,  1.17749423e+04,  1.38830635e+04,\n",
              "        3.20457707e+03,  7.22859319e+03,  2.29935518e+04,  7.55758921e+03,\n",
              "        5.46027262e+03,  5.40984450e+03,  6.65861034e+03,  5.17322461e+03,\n",
              "        9.93565007e+03,  5.60899670e+03,  5.58773302e+03,  6.91541998e+03,\n",
              "        3.70690692e+03,  5.55019169e+03,  3.79955283e+04,  1.46506325e+03,\n",
              "        1.25647575e+04,  8.89350019e+03,  1.36716916e+04,  5.64848650e+03,\n",
              "        5.19965979e+03,  3.63967737e+04,  4.32172733e+03,  1.91987766e+03,\n",
              "        1.51307783e+04,  1.26216607e+04,  3.50335769e+04,  5.07805200e+03,\n",
              "        5.56555414e+03,  3.15167547e+04,  6.07432251e+03,  2.01675780e+03,\n",
              "        8.39509874e+03,  9.96866608e+03,  8.23603030e+03,  5.73333252e+03,\n",
              "        1.31047099e+04,  3.86873131e+04,  1.36699138e+04,  2.87276084e+04,\n",
              "        6.69862032e+03,  3.57406127e+04,  3.75608583e+03,  1.21427800e+04,\n",
              "        9.31469022e+03,  6.43312430e+03,  1.12679257e+04,  1.45057260e+04,\n",
              "        5.13438214e+03,  4.28295039e+03,  7.76355644e+03,  1.22859152e+03,\n",
              "        7.83607821e+03,  4.43266844e+03,  1.32171510e+04,  4.30125447e+03,\n",
              "        9.91870069e+03,  7.21845713e+03,  9.15493492e+03,  2.39377981e+03,\n",
              "        1.30741444e+04,  1.67287627e+04,  1.51903834e+04,  1.04797638e+04,\n",
              "        5.65541595e+03,  2.53955407e+03,  2.20658262e+03,  1.33883192e+04,\n",
              "        1.43062904e+04,  4.98020866e+03,  4.09918941e+03,  9.32385463e+03,\n",
              "        9.95844991e+03,  2.81802028e+04,  7.61259457e+03,  1.04866050e+04,\n",
              "        6.18809300e+03,  2.97044306e+04,  1.09573520e+04,  7.49600338e+03,\n",
              "        1.01678653e+04,  1.21635060e+04,  2.98970441e+03,  1.07710490e+04,\n",
              "        1.53820951e+03,  7.03304544e+03,  2.87134296e+04,  3.85048794e+04,\n",
              "        6.19510663e+03,  8.39012681e+03,  2.48773176e+03,  4.35521049e+02,\n",
              "        1.03886967e+04,  4.43448873e+03,  4.91660432e+03,  2.68473300e+03,\n",
              "        7.18048890e+03,  3.32486040e+04,  3.81438757e+04,  1.46990988e+04,\n",
              "        8.21085455e+03,  1.60192845e+04,  3.31049441e+04,  9.47124753e+03])"
            ]
          },
          "metadata": {},
          "execution_count": 14
        }
      ]
    },
    {
      "cell_type": "code",
      "source": [
        "#QUALITY TESTING\n",
        "from sklearn import metrics\n",
        "metrics.mean_squared_error(y_test,y_pred)\n",
        "np.sqrt(metrics.mean_squared_error(y_test,y_pred))\n",
        "metrics.mean_absolute_error(y_test,y_pred)\n",
        "metrics.r2_score(y_test,y_pred)\n",
        "#END OF REPORT"
      ],
      "metadata": {
        "colab": {
          "base_uri": "https://localhost:8080/"
        },
        "id": "094vmWmwmFyC",
        "outputId": "ef69c2b5-e3c9-41db-a395-bdc55b973590"
      },
      "execution_count": 15,
      "outputs": [
        {
          "output_type": "execute_result",
          "data": {
            "text/plain": [
              "0.7998747145449958"
            ]
          },
          "metadata": {},
          "execution_count": 15
        }
      ]
    },
    {
      "cell_type": "code",
      "source": [],
      "metadata": {
        "id": "tJmu-VO4mTHW"
      },
      "execution_count": null,
      "outputs": []
    }
  ]
}