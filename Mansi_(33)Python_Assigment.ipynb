{
  "nbformat": 4,
  "nbformat_minor": 0,
  "metadata": {
    "colab": {
      "provenance": []
    },
    "kernelspec": {
      "name": "python3",
      "display_name": "Python 3"
    },
    "language_info": {
      "name": "python"
    }
  },
  "cells": [
    {
      "cell_type": "code",
      "execution_count": 1,
      "metadata": {
        "colab": {
          "base_uri": "https://localhost:8080/"
        },
        "id": "XEW8dHSgWr_w",
        "outputId": "9aa98552-ebcd-4153-d905-1cbb13729f05"
      },
      "outputs": [
        {
          "output_type": "execute_result",
          "data": {
            "text/plain": [
              "list[35, 50, 20, 30, 55, 75, 90, 95, 66, 80]"
            ]
          },
          "metadata": {},
          "execution_count": 1
        }
      ],
      "source": [
        "list[35,50,20,30,55,75,90,95,66,80]\n",
        "print[list]"
      ]
    },
    {
      "cell_type": "code",
      "source": [
        "scores=[35,50,20,30,55,75,90,95,66,80]\n",
        "for i in scores:\n",
        "    if i>70:\n",
        "        print(\"Distinction\")\n",
        "    elif 60<i<70:\n",
        "        print(\"First Class\")\n",
        "    elif 50<i<60:\n",
        "        print(\"Second Class\")\n",
        "    elif 35<i<50:\n",
        "        print(\"Just Pass\")\n",
        "    else:\n",
        "        print(\"Fail\")"
      ],
      "metadata": {
        "colab": {
          "base_uri": "https://localhost:8080/"
        },
        "id": "jtw74UTbW3mq",
        "outputId": "3cc2bad3-1e96-4afe-8cb3-4d36e633034a"
      },
      "execution_count": 2,
      "outputs": [
        {
          "output_type": "stream",
          "name": "stdout",
          "text": [
            "Fail\n",
            "Fail\n",
            "Fail\n",
            "Fail\n",
            "Second Class\n",
            "Distinction\n",
            "Distinction\n",
            "Distinction\n",
            "First Class\n",
            "Distinction\n"
          ]
        }
      ]
    },
    {
      "cell_type": "code",
      "source": [
        "Book_price= {'Python':600, 'Java': 400, 'Web_Tech': 550, 'OS': 450, 'IT': 700}\n",
        "for x,y in Book_price.items():\n",
        "    if y>500:\n",
        "        print(x)"
      ],
      "metadata": {
        "colab": {
          "base_uri": "https://localhost:8080/"
        },
        "id": "m6fzJDEjW3ra",
        "outputId": "50a44509-2ff3-4452-9aee-1faeabf6fbf6"
      },
      "execution_count": 3,
      "outputs": [
        {
          "output_type": "stream",
          "name": "stdout",
          "text": [
            "Python\n",
            "Web_Tech\n",
            "IT\n"
          ]
        }
      ]
    },
    {
      "cell_type": "code",
      "source": [
        "aList = [1, 2, 3, 4, 5, 6, 7]\n",
        "squared_list=[i**2 for i in aList]\n",
        "squared_list"
      ],
      "metadata": {
        "colab": {
          "base_uri": "https://localhost:8080/"
        },
        "id": "7LqU_8JuW3uy",
        "outputId": "2181a091-b78d-4b4c-b4a1-d1312a8c7c27"
      },
      "execution_count": 4,
      "outputs": [
        {
          "output_type": "execute_result",
          "data": {
            "text/plain": [
              "[1, 4, 9, 16, 25, 36, 49]"
            ]
          },
          "metadata": {},
          "execution_count": 4
        }
      ]
    },
    {
      "cell_type": "code",
      "source": [
        "list1 = [\"Hello \", \"take \"]\n",
        "list2 = [\"Dear\", \"Sir\"]\n",
        "for i in list1:\n",
        "    for j in list2:\n",
        "        print(i+j)"
      ],
      "metadata": {
        "colab": {
          "base_uri": "https://localhost:8080/"
        },
        "id": "RLO4hhAUW3xq",
        "outputId": "7bab4eb5-5595-4dca-c16c-809d5913c55b"
      },
      "execution_count": 5,
      "outputs": [
        {
          "output_type": "stream",
          "name": "stdout",
          "text": [
            "Hello Dear\n",
            "Hello Sir\n",
            "take Dear\n",
            "take Sir\n"
          ]
        }
      ]
    },
    {
      "cell_type": "code",
      "source": [
        "aLsit = [100, 200, 300, 400, 500]\n",
        "rev=aLsit[::-1]\n",
        "rev"
      ],
      "metadata": {
        "colab": {
          "base_uri": "https://localhost:8080/"
        },
        "id": "NKf--_mnW30h",
        "outputId": "8fda14a9-d118-4ebc-f00e-6cc682d3c7a2"
      },
      "execution_count": 6,
      "outputs": [
        {
          "output_type": "execute_result",
          "data": {
            "text/plain": [
              "[500, 400, 300, 200, 100]"
            ]
          },
          "metadata": {},
          "execution_count": 6
        }
      ]
    },
    {
      "cell_type": "code",
      "source": [
        "list1 = [10, 20, [300, 400, [5000, 6000], 500], 30, 40]\n",
        "list1[2][2].append(7000)\n",
        "list1"
      ],
      "metadata": {
        "colab": {
          "base_uri": "https://localhost:8080/"
        },
        "id": "rZ86cbALW32i",
        "outputId": "1a9d606a-22fe-4eeb-de34-8a314d4898dc"
      },
      "execution_count": 7,
      "outputs": [
        {
          "output_type": "execute_result",
          "data": {
            "text/plain": [
              "[10, 20, [300, 400, [5000, 6000, 7000], 500], 30, 40]"
            ]
          },
          "metadata": {},
          "execution_count": 7
        }
      ]
    },
    {
      "cell_type": "code",
      "source": [
        "list1 = [\"a\", \"b\", [\"c\", [\"d\", \"e\", [\"f\", \"g\"], \"k\"], \"l\"], \"m\", \"n\"]\n",
        "list1[2][1][2].extend([\"h\", \"i\", \"j\"])\n",
        "list1"
      ],
      "metadata": {
        "colab": {
          "base_uri": "https://localhost:8080/"
        },
        "id": "JUgr6WE_W331",
        "outputId": "c3390805-fb9f-4fd0-c596-98a0cd73f304"
      },
      "execution_count": 8,
      "outputs": [
        {
          "output_type": "execute_result",
          "data": {
            "text/plain": [
              "['a', 'b', ['c', ['d', 'e', ['f', 'g', 'h', 'i', 'j'], 'k'], 'l'], 'm', 'n']"
            ]
          },
          "metadata": {},
          "execution_count": 8
        }
      ]
    },
    {
      "cell_type": "code",
      "source": [
        "list1=[5, 10, 15, 20, 25, 50, 20]\n",
        "index=list1.index(20)\n",
        "list1[index]=200\n",
        "list1"
      ],
      "metadata": {
        "colab": {
          "base_uri": "https://localhost:8080/"
        },
        "id": "icBOjhyBW346",
        "outputId": "67f1fec5-a1e1-48bc-85d2-3e9843f2ee22"
      },
      "execution_count": 9,
      "outputs": [
        {
          "output_type": "execute_result",
          "data": {
            "text/plain": [
              "[5, 10, 15, 200, 25, 50, 20]"
            ]
          },
          "metadata": {},
          "execution_count": 9
        }
      ]
    },
    {
      "cell_type": "code",
      "source": [
        "Player_game={'Sachin':'Cricket', 'Rahul': 'Cricket', 'Messi': 'Football', 'Federer': 'Tennis', 'Anand': 'Chess'}\n",
        "for x,y in Player_game.items():\n",
        "    if y=='Cricket':\n",
        "        print(x)"
      ],
      "metadata": {
        "colab": {
          "base_uri": "https://localhost:8080/"
        },
        "id": "WKXh3mm9W36H",
        "outputId": "e9ac372f-8480-4055-9cab-6a830e6c2c71"
      },
      "execution_count": 10,
      "outputs": [
        {
          "output_type": "stream",
          "name": "stdout",
          "text": [
            "Sachin\n",
            "Rahul\n"
          ]
        }
      ]
    },
    {
      "cell_type": "code",
      "source": [
        "Sum=0\n",
        "List1= [1,2,4,5,10,20,4,5]\n",
        "for i in List1:\n",
        "    Sum+=i\n",
        "Sum"
      ],
      "metadata": {
        "colab": {
          "base_uri": "https://localhost:8080/"
        },
        "id": "mbATVr03W4GK",
        "outputId": "7ae99ded-07a6-4117-83db-7c5d4b25b1f6"
      },
      "execution_count": 11,
      "outputs": [
        {
          "output_type": "execute_result",
          "data": {
            "text/plain": [
              "51"
            ]
          },
          "metadata": {},
          "execution_count": 11
        }
      ]
    }
  ]
}